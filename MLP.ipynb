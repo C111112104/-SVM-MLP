{
  "nbformat": 4,
  "nbformat_minor": 0,
  "metadata": {
    "colab": {
      "provenance": []
    },
    "kernelspec": {
      "name": "python3",
      "display_name": "Python 3"
    },
    "language_info": {
      "name": "python"
    }
  },
  "cells": [
    {
      "cell_type": "code",
      "execution_count": 5,
      "metadata": {
        "id": "IaVYrPex1l2r"
      },
      "outputs": [],
      "source": [
        "import jax\n",
        "import jax.numpy as jnp\n",
        "import jax.tree_util as jtree\n",
        "import jax.random as jrand\n",
        "import matplotlib.pyplot as plt"
      ]
    },
    {
      "cell_type": "markdown",
      "source": [
        "## **初始化 MLP 模型參數**"
      ],
      "metadata": {
        "id": "oDsZOWjB3sQW"
      }
    },
    {
      "cell_type": "code",
      "source": [
        "# layer_widths: 指定 MLP 的層數和每層的神經元個數\n",
        "#               用法: [1st_layer_width, 2nd_layer_width, ..., nth_layter_width]\n",
        "\n",
        "def init_mlp_params(layer_widths):\n",
        "    params = []\n",
        "    key = jrand.PRNGKey(0)\n",
        "\n",
        "    for n_in, n_out in zip(layer_widths[:-1], layer_widths[1:]):\n",
        "        key, subkey = jrand.split(key)\n",
        "        params.append(dict(weights=jrand.normal(subkey, (n_in, n_out)) * jnp.sqrt(2/n_in),\n",
        "                       biases=jnp.ones(shape=(n_out,))))\n",
        "\n",
        "    return params\n",
        "\n",
        "# 定義模型的層數及神經元個數\n",
        "\n",
        "layers = [1,128,128,1]\n",
        "params = init_mlp_params(layers)\n",
        "\n",
        "# 檢查 params 的結構\n",
        "\n",
        "jtree.tree_structure(params)"
      ],
      "metadata": {
        "colab": {
          "base_uri": "https://localhost:8080/"
        },
        "id": "nOQXRIs23q9x",
        "outputId": "eb4e6ad7-0d59-4ca7-8100-35704c4f5148"
      },
      "execution_count": 7,
      "outputs": [
        {
          "output_type": "execute_result",
          "data": {
            "text/plain": [
              "PyTreeDef([{'biases': *, 'weights': *}, {'biases': *, 'weights': *}, {'biases': *, 'weights': *}])"
            ]
          },
          "metadata": {},
          "execution_count": 7
        }
      ]
    },
    {
      "cell_type": "code",
      "source": [
        "# 檢查 params 葉節點的 shape\n",
        "\n",
        "jtree.tree_map(lambda x: x.shape, params)\n"
      ],
      "metadata": {
        "colab": {
          "base_uri": "https://localhost:8080/"
        },
        "id": "vwtn_k0I352k",
        "outputId": "6e354da8-4f96-40d4-d05d-16c8517e8ac6"
      },
      "execution_count": 8,
      "outputs": [
        {
          "output_type": "execute_result",
          "data": {
            "text/plain": [
              "[{'biases': (128,), 'weights': (1, 128)},\n",
              " {'biases': (128,), 'weights': (128, 128)},\n",
              " {'biases': (1,), 'weights': (128, 1)}]"
            ]
          },
          "metadata": {},
          "execution_count": 8
        }
      ]
    },
    {
      "cell_type": "code",
      "source": [
        "# 檢查 params 葉節點的 type\n",
        "\n",
        "jtree.tree_map(lambda x: (x.__class__, x.dtype), params)"
      ],
      "metadata": {
        "colab": {
          "base_uri": "https://localhost:8080/"
        },
        "id": "158RN5sb388z",
        "outputId": "1a55cb2c-ef67-4054-f8fc-ba28e192779f"
      },
      "execution_count": 9,
      "outputs": [
        {
          "output_type": "execute_result",
          "data": {
            "text/plain": [
              "[{'biases': (jaxlib.xla_extension.ArrayImpl, dtype('float32')),\n",
              "  'weights': (jaxlib.xla_extension.ArrayImpl, dtype('float32'))},\n",
              " {'biases': (jaxlib.xla_extension.ArrayImpl, dtype('float32')),\n",
              "  'weights': (jaxlib.xla_extension.ArrayImpl, dtype('float32'))},\n",
              " {'biases': (jaxlib.xla_extension.ArrayImpl, dtype('float32')),\n",
              "  'weights': (jaxlib.xla_extension.ArrayImpl, dtype('float32'))}]"
            ]
          },
          "metadata": {},
          "execution_count": 9
        }
      ]
    },
    {
      "cell_type": "markdown",
      "source": [
        "## **定義模型**\n",
        "(1) 激活函式 activation function\n",
        "\n",
        "(2) 損失函式 loss function\n",
        "\n",
        "(3) 參數調整函式 update function, based on grad()"
      ],
      "metadata": {
        "id": "sHGZECIe3u3Z"
      }
    },
    {
      "cell_type": "code",
      "source": [
        "# 激活函式, 及模型前向計算\n",
        "# ======================================================================\n",
        "# 由第一層開始, 依序計算輸出, 並以 relu 為激活函式\n",
        "\n",
        "def  forward(params, x):\n",
        "  *hidden, last = params\n",
        "  for layer in hidden:\n",
        "    x = jax.nn.relu(x @ layer['weights'] + layer['biases'])\n",
        "  return x @ last['weights'] + last['biases']"
      ],
      "metadata": {
        "id": "vvADlAnz3vOq"
      },
      "execution_count": 10,
      "outputs": []
    },
    {
      "cell_type": "code",
      "source": [
        "# 損失函式\n",
        "# ======================================================================\n",
        "#  x : 為訓練資料\n",
        "#  y : 為資料標籤 (label)\n",
        "# ======================================================================\n",
        "# loss 為均方誤差(Mean square error，MSE)\n",
        "# ======================================================================\n",
        "\n",
        "def loss_fn(params, x, y):\n",
        "  return jnp.mean((forward(params, x) - y) ** 2)"
      ],
      "metadata": {
        "id": "o2sT6ueY4IjE"
      },
      "execution_count": 11,
      "outputs": []
    },
    {
      "cell_type": "code",
      "source": [
        "# 參數調整函式\n",
        "# ======================================================================\n",
        "# 在還沒有介紹 JAX 提供的方法之前, 先用最簡單的邏輯\n",
        "\n",
        "@jax.jit\n",
        "def update(params, x, y, learning_rate=0.0001):\n",
        "\n",
        "  grads = jax.grad(loss_fn)(params, x, y)\n",
        "  # Note that `grads` is a pytree with the same structure as `params`.\n",
        "  # `jax.grad` is one of the many JAX functions that has\n",
        "  # built-in support for pytrees.\n",
        "\n",
        "  # This is handy, because we can apply the SGD update using tree utils:\n",
        "  return jax.tree_map(\n",
        "      lambda p, g: p - learning_rate * g, params, grads\n",
        "  )"
      ],
      "metadata": {
        "id": "-dMEu6MW4ML5"
      },
      "execution_count": 12,
      "outputs": []
    },
    {
      "cell_type": "markdown",
      "source": [
        "## **準備訓練資料**"
      ],
      "metadata": {
        "id": "Pld1XPml4N9W"
      }
    },
    {
      "cell_type": "code",
      "source": [
        "key = jrand.PRNGKey(100)\n",
        "xs = jrand.normal(key, (128,1))\n",
        "ys = xs ** 2"
      ],
      "metadata": {
        "id": "1eZxRbXr4Vle"
      },
      "execution_count": 13,
      "outputs": []
    },
    {
      "cell_type": "code",
      "source": [
        "plt.scatter(xs, ys, label='training data')\n",
        "plt.legend()"
      ],
      "metadata": {
        "colab": {
          "base_uri": "https://localhost:8080/",
          "height": 448
        },
        "id": "kZHYEayA4XWh",
        "outputId": "d3c05add-4b82-435a-ff46-18c788617901"
      },
      "execution_count": 14,
      "outputs": [
        {
          "output_type": "execute_result",
          "data": {
            "text/plain": [
              "<matplotlib.legend.Legend at 0x7aca78379880>"
            ]
          },
          "metadata": {},
          "execution_count": 14
        },
        {
          "output_type": "display_data",
          "data": {
            "text/plain": [
              "<Figure size 640x480 with 1 Axes>"
            ],
            "image/png": "[encoded data removed]"
          },
          "metadata": {}
        }
      ]
    },
    {
      "cell_type": "markdown",
      "source": [
        "## **開始訓練並檢查結果**"
      ],
      "metadata": {
        "id": "fkuXLFi44a-i"
      }
    },
    {
      "cell_type": "code",
      "source": [
        "epoch = 1000\n",
        "learning_rate = 0.0001\n",
        "\n",
        "for _ in range(epoch):\n",
        "    params = update(params, xs, ys, learning_rate)"
      ],
      "metadata": {
        "colab": {
          "base_uri": "https://localhost:8080/"
        },
        "id": "MdjGi32j4eLU",
        "outputId": "c2145c9d-2b8c-46c3-f059-23a319c1049a"
      },
      "execution_count": 15,
      "outputs": [
        {
          "output_type": "stream",
          "name": "stderr",
          "text": [
            "/tmp/ipython-input-1504587825.py:14: DeprecationWarning: jax.tree_map is deprecated: use jax.tree.map (jax v0.4.25 or newer) or jax.tree_util.tree_map (any JAX version).\n",
            "  return jax.tree_map(\n"
          ]
        }
      ]
    },
    {
      "cell_type": "code",
      "source": [
        "# 檢查結果\n",
        "\n",
        "plt.scatter(xs, ys, label='Training Data')\n",
        "plt.scatter(xs, forward(params, xs), label='Model Prediction')\n",
        "plt.legend()"
      ],
      "metadata": {
        "colab": {
          "base_uri": "https://localhost:8080/",
          "height": 448
        },
        "id": "5eIjjEvQ4gGh",
        "outputId": "1672ba0f-a7c4-4623-bee3-bee61a0af658"
      },
      "execution_count": 16,
      "outputs": [
        {
          "output_type": "execute_result",
          "data": {
            "text/plain": [
              "<matplotlib.legend.Legend at 0x7aca781dfdd0>"
            ]
          },
          "metadata": {},
          "execution_count": 16
        },
        {
          "output_type": "display_data",
          "data": {
            "text/plain": [
              "<Figure size 640x480 with 1 Axes>"
            ],
            "image/png": "[encoded data removed]"
          },
          "metadata": {}
        }
      ]
    }
  ]
}